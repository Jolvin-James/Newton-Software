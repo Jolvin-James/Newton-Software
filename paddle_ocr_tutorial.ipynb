{
 "cells": [
  {
   "cell_type": "markdown",
   "id": "77e52023",
   "metadata": {},
   "source": [
    "# 1. Install and Import Dependencies"
   ]
  },
  {
   "cell_type": "code",
   "execution_count": 1,
   "id": "4c6ff0e7-e46d-4d5f-a5db-8bc3e7aa7719",
   "metadata": {},
   "outputs": [
    {
     "name": "stdout",
     "output_type": "stream",
     "text": [
      "Running verify PaddlePaddle program ... \n",
      "PaddlePaddle works well on 1 CPU.\n",
      "PaddlePaddle is installed successfully! Let's start deep learning with PaddlePaddle now.\n"
     ]
    }
   ],
   "source": [
    "import paddle\n",
    "paddle.utils.run_check()"
   ]
  },
  {
   "cell_type": "code",
   "execution_count": 2,
   "id": "fdb2aa8b-a5fd-4860-8d86-7b3045db7c17",
   "metadata": {},
   "outputs": [
    {
     "name": "stderr",
     "output_type": "stream",
     "text": [
      "c:\\Users\\jolvi\\OneDrive\\Desktop\\autocad\\.process\\Lib\\site-packages\\tqdm\\auto.py:21: TqdmWarning: IProgress not found. Please update jupyter and ipywidgets. See https://ipywidgets.readthedocs.io/en/stable/user_install.html\n",
      "  from .autonotebook import tqdm as notebook_tqdm\n"
     ]
    }
   ],
   "source": [
    "from paddleocr import PaddleOCR"
   ]
  },
  {
   "cell_type": "code",
   "execution_count": 3,
   "id": "a5e70c6c-3384-4e17-abf0-0177273c4437",
   "metadata": {},
   "outputs": [
    {
     "name": "stderr",
     "output_type": "stream",
     "text": [
      "\u001b[32mCreating model: ('PP-LCNet_x1_0_doc_ori', None)\u001b[0m\n",
      "\u001b[32mUsing official model (PP-LCNet_x1_0_doc_ori), the model files will be automatically downloaded and saved in C:\\Users\\jolvi\\.paddlex\\official_models.\u001b[0m\n",
      "Fetching 6 files: 100%|██████████| 6/6 [00:00<00:00, 1581.96it/s]\n",
      "\u001b[32mCreating model: ('UVDoc', None)\u001b[0m\n",
      "\u001b[32mUsing official model (UVDoc), the model files will be automatically downloaded and saved in C:\\Users\\jolvi\\.paddlex\\official_models.\u001b[0m\n",
      "Fetching 6 files: 100%|██████████| 6/6 [00:00<00:00, 1259.61it/s]\n",
      "\u001b[32mCreating model: ('PP-LCNet_x1_0_textline_ori', None)\u001b[0m\n",
      "\u001b[32mUsing official model (PP-LCNet_x1_0_textline_ori), the model files will be automatically downloaded and saved in C:\\Users\\jolvi\\.paddlex\\official_models.\u001b[0m\n",
      "Fetching 6 files: 100%|██████████| 6/6 [00:00<00:00, 1474.01it/s]\n",
      "\u001b[32mCreating model: ('PP-OCRv5_server_det', None)\u001b[0m\n",
      "\u001b[32mUsing official model (PP-OCRv5_server_det), the model files will be automatically downloaded and saved in C:\\Users\\jolvi\\.paddlex\\official_models.\u001b[0m\n",
      "Fetching 6 files: 100%|██████████| 6/6 [00:00<00:00, 1184.00it/s]\n",
      "\u001b[32mCreating model: ('en_PP-OCRv5_mobile_rec', None)\u001b[0m\n",
      "\u001b[32mUsing official model (en_PP-OCRv5_mobile_rec), the model files will be automatically downloaded and saved in C:\\Users\\jolvi\\.paddlex\\official_models.\u001b[0m\n",
      "Fetching 5 files: 100%|██████████| 5/5 [00:00<00:00, 313.85it/s]\n"
     ]
    },
    {
     "name": "stdout",
     "output_type": "stream",
     "text": [
      "{'input_path': 'temp/preprocessed_for_ocr.png', 'page_index': None, 'doc_preprocessor_res': {'input_path': None, 'page_index': None, 'input_img': array([[[255, ..., 255],\n",
      "        ...,\n",
      "        [255, ..., 255]],\n",
      "\n",
      "       ...,\n",
      "\n",
      "       [[255, ..., 255],\n",
      "        ...,\n",
      "        [255, ..., 255]]], shape=(697, 1333, 3), dtype=uint8), 'model_settings': {'use_doc_orientation_classify': True, 'use_doc_unwarping': True}, 'angle': 0, 'rot_img': array([[[255, ..., 255],\n",
      "        ...,\n",
      "        [255, ..., 255]],\n",
      "\n",
      "       ...,\n",
      "\n",
      "       [[255, ..., 255],\n",
      "        ...,\n",
      "        [255, ..., 255]]], shape=(697, 1333, 3), dtype=uint8), 'output_img': array([[[254, ..., 254],\n",
      "        ...,\n",
      "        [255, ..., 255]],\n",
      "\n",
      "       ...,\n",
      "\n",
      "       [[255, ..., 255],\n",
      "        ...,\n",
      "        [255, ..., 255]]], shape=(697, 1333, 3), dtype=uint8)}, 'dt_polys': [array([[223,   9],\n",
      "       ...,\n",
      "       [223,  58]], shape=(4, 2), dtype=int16), array([[160,  55],\n",
      "       ...,\n",
      "       [159, 102]], shape=(4, 2), dtype=int16), array([[637,  58],\n",
      "       ...,\n",
      "       [637, 109]], shape=(4, 2), dtype=int16), array([[996,  61],\n",
      "       ...,\n",
      "       [994, 108]], shape=(4, 2), dtype=int16), array([[1313,   72],\n",
      "       ...,\n",
      "       [1313,  103]], shape=(4, 2), dtype=int16), array([[811, 154],\n",
      "       ...,\n",
      "       [811, 179]], shape=(4, 2), dtype=int16), array([[ 95, 205],\n",
      "       ...,\n",
      "       [ 94, 248]], shape=(4, 2), dtype=int16), array([[631, 201],\n",
      "       ...,\n",
      "       [631, 246]], shape=(4, 2), dtype=int16), array([[1117,  207],\n",
      "       ...,\n",
      "       [1117,  247]], shape=(4, 2), dtype=int16), array([[ 94, 257],\n",
      "       ...,\n",
      "       [ 93, 301]], shape=(4, 2), dtype=int16), array([[ 33, 439],\n",
      "       ...,\n",
      "       [ 33, 473]], shape=(4, 2), dtype=int16), array([[930, 439],\n",
      "       ...,\n",
      "       [929, 480]], shape=(4, 2), dtype=int16), array([[  0, 611],\n",
      "       ...,\n",
      "       [  0, 659]], shape=(4, 2), dtype=int16), array([[328, 614],\n",
      "       ...,\n",
      "       [327, 662]], shape=(4, 2), dtype=int16), array([[886, 617],\n",
      "       ...,\n",
      "       [885, 668]], shape=(4, 2), dtype=int16)], 'model_settings': {'use_doc_preprocessor': True, 'use_textline_orientation': True}, 'text_det_params': {'limit_side_len': 64, 'limit_type': 'min', 'thresh': 0.3, 'max_side_limit': 4000, 'box_thresh': 0.6, 'unclip_ratio': 1.5}, 'text_type': 'general', 'text_rec_score_thresh': 0.0, 'return_word_box': False, 'rec_texts': ['M1→', '2-16T', '3-16T', '-2-16T', 'C', 'A', '1-16T', '2-12T EXT. -1-16T', '1-16T-', '1-16T-', '1-16T+1-12T', '2-16T+1-12T', '311a(125 X 575)', 'B11b (230 X 575)', 'B11c (230 X 575)'], 'rec_scores': [0.9798285961151123, 0.9994264841079712, 0.9990134239196777, 0.9133171439170837, 0.11950447410345078, 0.7391865849494934, 0.9996660947799683, 0.9648512601852417, 0.9890095591545105, 0.975705087184906, 0.9989791512489319, 0.9902235269546509, 0.9681118726730347, 0.9881331920623779, 0.9984974265098572], 'rec_polys': [array([[223,   9],\n",
      "       ...,\n",
      "       [223,  58]], shape=(4, 2), dtype=int16), array([[160,  55],\n",
      "       ...,\n",
      "       [159, 102]], shape=(4, 2), dtype=int16), array([[637,  58],\n",
      "       ...,\n",
      "       [637, 109]], shape=(4, 2), dtype=int16), array([[996,  61],\n",
      "       ...,\n",
      "       [994, 108]], shape=(4, 2), dtype=int16), array([[1313,   72],\n",
      "       ...,\n",
      "       [1313,  103]], shape=(4, 2), dtype=int16), array([[811, 154],\n",
      "       ...,\n",
      "       [811, 179]], shape=(4, 2), dtype=int16), array([[ 95, 205],\n",
      "       ...,\n",
      "       [ 94, 248]], shape=(4, 2), dtype=int16), array([[631, 201],\n",
      "       ...,\n",
      "       [631, 246]], shape=(4, 2), dtype=int16), array([[1117,  207],\n",
      "       ...,\n",
      "       [1117,  247]], shape=(4, 2), dtype=int16), array([[ 94, 257],\n",
      "       ...,\n",
      "       [ 93, 301]], shape=(4, 2), dtype=int16), array([[ 33, 439],\n",
      "       ...,\n",
      "       [ 33, 473]], shape=(4, 2), dtype=int16), array([[930, 439],\n",
      "       ...,\n",
      "       [929, 480]], shape=(4, 2), dtype=int16), array([[  0, 611],\n",
      "       ...,\n",
      "       [  0, 659]], shape=(4, 2), dtype=int16), array([[328, 614],\n",
      "       ...,\n",
      "       [327, 662]], shape=(4, 2), dtype=int16), array([[886, 617],\n",
      "       ...,\n",
      "       [885, 668]], shape=(4, 2), dtype=int16)], 'vis_fonts': [<paddlex.utils.fonts.Font object at 0x000001963C78DF50>, <paddlex.utils.fonts.Font object at 0x000001963C78DF50>, <paddlex.utils.fonts.Font object at 0x000001963C78DF50>, <paddlex.utils.fonts.Font object at 0x000001963C78DF50>, <paddlex.utils.fonts.Font object at 0x000001963C78DF50>, <paddlex.utils.fonts.Font object at 0x000001963C78DF50>, <paddlex.utils.fonts.Font object at 0x000001963C78DF50>, <paddlex.utils.fonts.Font object at 0x000001963C78DF50>, <paddlex.utils.fonts.Font object at 0x000001963C78DF50>, <paddlex.utils.fonts.Font object at 0x000001963C78DF50>, <paddlex.utils.fonts.Font object at 0x000001963C78DF50>, <paddlex.utils.fonts.Font object at 0x000001963C78DF50>, <paddlex.utils.fonts.Font object at 0x000001963C78DF50>, <paddlex.utils.fonts.Font object at 0x000001963C78DF50>, <paddlex.utils.fonts.Font object at 0x000001963C78DF50>], 'textline_orientation_angles': [0, 0, 0, 0, 1, 0, 0, 0, 0, 0, 0, 0, 0, 0, 0], 'rec_boxes': array([[223, ...,  58],\n",
      "       ...,\n",
      "       [885, ..., 674]], shape=(15, 4), dtype=int16)}\n"
     ]
    }
   ],
   "source": [
    "ocr = PaddleOCR(lang='en')  # downloads and loads model\n",
    "img_path = \"temp/preprocessed_for_ocr.png\"\n",
    "result = ocr.predict(img_path)\n",
    "for line in result:\n",
    "    print(line)"
   ]
  },
  {
   "cell_type": "code",
   "execution_count": 5,
   "id": "0fc5c930",
   "metadata": {},
   "outputs": [],
   "source": [
    "from paddleocr import PaddleOCR # main OCR dependencies\n",
    "from matplotlib import pyplot as plt # plot images\n",
    "import cv2 #opencv\n",
    "import os # folder directory navigation"
   ]
  },
  {
   "cell_type": "markdown",
   "id": "461c243b",
   "metadata": {},
   "source": [
    "# 2. Instantiate Model and Detect"
   ]
  },
  {
   "cell_type": "code",
   "execution_count": 7,
   "id": "02e2e0ff",
   "metadata": {},
   "outputs": [
    {
     "name": "stderr",
     "output_type": "stream",
     "text": [
      "C:\\Users\\jolvi\\AppData\\Local\\Temp\\ipykernel_37004\\4004921662.py:2: DeprecationWarning: The parameter `use_angle_cls` has been deprecated and will be removed in the future. Please use `use_textline_orientation` instead.\n",
      "  ocr_model = PaddleOCR(use_angle_cls=True, lang='en')\n",
      "\u001b[32mCreating model: ('PP-LCNet_x1_0_doc_ori', None)\u001b[0m\n",
      "\u001b[32mUsing official model (PP-LCNet_x1_0_doc_ori), the model files will be automatically downloaded and saved in C:\\Users\\jolvi\\.paddlex\\official_models.\u001b[0m\n",
      "Fetching 6 files: 100%|██████████| 6/6 [00:00<00:00, 1249.79it/s]\n",
      "\u001b[32mCreating model: ('UVDoc', None)\u001b[0m\n",
      "\u001b[32mUsing official model (UVDoc), the model files will be automatically downloaded and saved in C:\\Users\\jolvi\\.paddlex\\official_models.\u001b[0m\n",
      "Fetching 6 files: 100%|██████████| 6/6 [00:00<00:00, 1178.01it/s]\n",
      "\u001b[32mCreating model: ('PP-LCNet_x1_0_textline_ori', None)\u001b[0m\n",
      "\u001b[32mUsing official model (PP-LCNet_x1_0_textline_ori), the model files will be automatically downloaded and saved in C:\\Users\\jolvi\\.paddlex\\official_models.\u001b[0m\n",
      "Fetching 6 files: 100%|██████████| 6/6 [00:00<00:00, 1588.15it/s]\n",
      "\u001b[32mCreating model: ('PP-OCRv5_server_det', None)\u001b[0m\n",
      "\u001b[32mUsing official model (PP-OCRv5_server_det), the model files will be automatically downloaded and saved in C:\\Users\\jolvi\\.paddlex\\official_models.\u001b[0m\n",
      "Fetching 6 files: 100%|██████████| 6/6 [00:00<00:00, 1598.74it/s]\n",
      "\u001b[32mCreating model: ('en_PP-OCRv5_mobile_rec', None)\u001b[0m\n",
      "\u001b[32mUsing official model (en_PP-OCRv5_mobile_rec), the model files will be automatically downloaded and saved in C:\\Users\\jolvi\\.paddlex\\official_models.\u001b[0m\n",
      "Fetching 5 files: 100%|██████████| 5/5 [00:00<00:00, 889.15it/s]\n"
     ]
    }
   ],
   "source": [
    "# Setup model\n",
    "ocr_model = PaddleOCR(use_angle_cls=True, lang='en')"
   ]
  },
  {
   "cell_type": "code",
   "execution_count": 8,
   "id": "ebdbb080",
   "metadata": {},
   "outputs": [],
   "source": [
    "# img_path = os.path.join('.', 'drug1.jpg')\n",
    "img_path = \"temp/preprocessed_for_ocr.png\""
   ]
  },
  {
   "cell_type": "code",
   "execution_count": 9,
   "id": "1dd265e0",
   "metadata": {},
   "outputs": [
    {
     "name": "stderr",
     "output_type": "stream",
     "text": [
      "C:\\Users\\jolvi\\AppData\\Local\\Temp\\ipykernel_37004\\661351772.py:2: DeprecationWarning: Please use `predict` instead.\n",
      "  result = ocr_model.ocr(img_path)\n"
     ]
    }
   ],
   "source": [
    "# Run the ocr method on the ocr model\n",
    "result = ocr_model.ocr(img_path)"
   ]
  },
  {
   "cell_type": "code",
   "execution_count": 10,
   "id": "134bf594",
   "metadata": {},
   "outputs": [
    {
     "data": {
      "text/plain": [
       "[{'input_path': 'temp/preprocessed_for_ocr.png',\n",
       "  'page_index': None,\n",
       "  'doc_preprocessor_res': {'input_path': None,\n",
       "   'page_index': None,\n",
       "   'input_img': array([[[255, ..., 255],\n",
       "           ...,\n",
       "           [255, ..., 255]],\n",
       "   \n",
       "          ...,\n",
       "   \n",
       "          [[255, ..., 255],\n",
       "           ...,\n",
       "           [255, ..., 255]]], shape=(697, 1333, 3), dtype=uint8),\n",
       "   'model_settings': {'use_doc_orientation_classify': True,\n",
       "    'use_doc_unwarping': True},\n",
       "   'angle': 0,\n",
       "   'rot_img': array([[[255, ..., 255],\n",
       "           ...,\n",
       "           [255, ..., 255]],\n",
       "   \n",
       "          ...,\n",
       "   \n",
       "          [[255, ..., 255],\n",
       "           ...,\n",
       "           [255, ..., 255]]], shape=(697, 1333, 3), dtype=uint8),\n",
       "   'output_img': array([[[254, ..., 254],\n",
       "           ...,\n",
       "           [255, ..., 255]],\n",
       "   \n",
       "          ...,\n",
       "   \n",
       "          [[255, ..., 255],\n",
       "           ...,\n",
       "           [255, ..., 255]]], shape=(697, 1333, 3), dtype=uint8)},\n",
       "  'dt_polys': [array([[223,   9],\n",
       "          ...,\n",
       "          [223,  58]], shape=(4, 2), dtype=int16),\n",
       "   array([[160,  55],\n",
       "          ...,\n",
       "          [159, 102]], shape=(4, 2), dtype=int16),\n",
       "   array([[637,  58],\n",
       "          ...,\n",
       "          [637, 109]], shape=(4, 2), dtype=int16),\n",
       "   array([[996,  61],\n",
       "          ...,\n",
       "          [994, 108]], shape=(4, 2), dtype=int16),\n",
       "   array([[1313,   72],\n",
       "          ...,\n",
       "          [1313,  103]], shape=(4, 2), dtype=int16),\n",
       "   array([[811, 154],\n",
       "          ...,\n",
       "          [811, 179]], shape=(4, 2), dtype=int16),\n",
       "   array([[ 95, 205],\n",
       "          ...,\n",
       "          [ 94, 248]], shape=(4, 2), dtype=int16),\n",
       "   array([[631, 201],\n",
       "          ...,\n",
       "          [631, 246]], shape=(4, 2), dtype=int16),\n",
       "   array([[1117,  207],\n",
       "          ...,\n",
       "          [1117,  247]], shape=(4, 2), dtype=int16),\n",
       "   array([[ 94, 257],\n",
       "          ...,\n",
       "          [ 93, 301]], shape=(4, 2), dtype=int16),\n",
       "   array([[ 33, 439],\n",
       "          ...,\n",
       "          [ 33, 473]], shape=(4, 2), dtype=int16),\n",
       "   array([[930, 439],\n",
       "          ...,\n",
       "          [929, 480]], shape=(4, 2), dtype=int16),\n",
       "   array([[  0, 611],\n",
       "          ...,\n",
       "          [  0, 659]], shape=(4, 2), dtype=int16),\n",
       "   array([[328, 614],\n",
       "          ...,\n",
       "          [327, 662]], shape=(4, 2), dtype=int16),\n",
       "   array([[886, 617],\n",
       "          ...,\n",
       "          [885, 668]], shape=(4, 2), dtype=int16)],\n",
       "  'model_settings': {'use_doc_preprocessor': True,\n",
       "   'use_textline_orientation': True},\n",
       "  'text_det_params': {'limit_side_len': 64,\n",
       "   'limit_type': 'min',\n",
       "   'thresh': 0.3,\n",
       "   'max_side_limit': 4000,\n",
       "   'box_thresh': 0.6,\n",
       "   'unclip_ratio': 1.5},\n",
       "  'text_type': 'general',\n",
       "  'text_rec_score_thresh': 0.0,\n",
       "  'return_word_box': False,\n",
       "  'rec_texts': ['M1→',\n",
       "   '2-16T',\n",
       "   '3-16T',\n",
       "   '-2-16T',\n",
       "   'C',\n",
       "   'A',\n",
       "   '1-16T',\n",
       "   '2-12T EXT. -1-16T',\n",
       "   '1-16T-',\n",
       "   '1-16T-',\n",
       "   '1-16T+1-12T',\n",
       "   '2-16T+1-12T',\n",
       "   '311a(125 X 575)',\n",
       "   'B11b (230 X 575)',\n",
       "   'B11c (230 X 575)'],\n",
       "  'rec_scores': [0.9798285961151123,\n",
       "   0.9994264841079712,\n",
       "   0.9990134239196777,\n",
       "   0.9133171439170837,\n",
       "   0.11950447410345078,\n",
       "   0.7391865849494934,\n",
       "   0.9996660947799683,\n",
       "   0.9648512601852417,\n",
       "   0.9890095591545105,\n",
       "   0.975705087184906,\n",
       "   0.9989791512489319,\n",
       "   0.9902235269546509,\n",
       "   0.9681118726730347,\n",
       "   0.9881331920623779,\n",
       "   0.9984974265098572],\n",
       "  'rec_polys': [array([[223,   9],\n",
       "          ...,\n",
       "          [223,  58]], shape=(4, 2), dtype=int16),\n",
       "   array([[160,  55],\n",
       "          ...,\n",
       "          [159, 102]], shape=(4, 2), dtype=int16),\n",
       "   array([[637,  58],\n",
       "          ...,\n",
       "          [637, 109]], shape=(4, 2), dtype=int16),\n",
       "   array([[996,  61],\n",
       "          ...,\n",
       "          [994, 108]], shape=(4, 2), dtype=int16),\n",
       "   array([[1313,   72],\n",
       "          ...,\n",
       "          [1313,  103]], shape=(4, 2), dtype=int16),\n",
       "   array([[811, 154],\n",
       "          ...,\n",
       "          [811, 179]], shape=(4, 2), dtype=int16),\n",
       "   array([[ 95, 205],\n",
       "          ...,\n",
       "          [ 94, 248]], shape=(4, 2), dtype=int16),\n",
       "   array([[631, 201],\n",
       "          ...,\n",
       "          [631, 246]], shape=(4, 2), dtype=int16),\n",
       "   array([[1117,  207],\n",
       "          ...,\n",
       "          [1117,  247]], shape=(4, 2), dtype=int16),\n",
       "   array([[ 94, 257],\n",
       "          ...,\n",
       "          [ 93, 301]], shape=(4, 2), dtype=int16),\n",
       "   array([[ 33, 439],\n",
       "          ...,\n",
       "          [ 33, 473]], shape=(4, 2), dtype=int16),\n",
       "   array([[930, 439],\n",
       "          ...,\n",
       "          [929, 480]], shape=(4, 2), dtype=int16),\n",
       "   array([[  0, 611],\n",
       "          ...,\n",
       "          [  0, 659]], shape=(4, 2), dtype=int16),\n",
       "   array([[328, 614],\n",
       "          ...,\n",
       "          [327, 662]], shape=(4, 2), dtype=int16),\n",
       "   array([[886, 617],\n",
       "          ...,\n",
       "          [885, 668]], shape=(4, 2), dtype=int16)],\n",
       "  'vis_fonts': [<paddlex.utils.fonts.Font at 0x1963c78df50>,\n",
       "   <paddlex.utils.fonts.Font at 0x1963c78df50>,\n",
       "   <paddlex.utils.fonts.Font at 0x1963c78df50>,\n",
       "   <paddlex.utils.fonts.Font at 0x1963c78df50>,\n",
       "   <paddlex.utils.fonts.Font at 0x1963c78df50>,\n",
       "   <paddlex.utils.fonts.Font at 0x1963c78df50>,\n",
       "   <paddlex.utils.fonts.Font at 0x1963c78df50>,\n",
       "   <paddlex.utils.fonts.Font at 0x1963c78df50>,\n",
       "   <paddlex.utils.fonts.Font at 0x1963c78df50>,\n",
       "   <paddlex.utils.fonts.Font at 0x1963c78df50>,\n",
       "   <paddlex.utils.fonts.Font at 0x1963c78df50>,\n",
       "   <paddlex.utils.fonts.Font at 0x1963c78df50>,\n",
       "   <paddlex.utils.fonts.Font at 0x1963c78df50>,\n",
       "   <paddlex.utils.fonts.Font at 0x1963c78df50>,\n",
       "   <paddlex.utils.fonts.Font at 0x1963c78df50>],\n",
       "  'textline_orientation_angles': [0, 0, 0, 0, 1, 0, 0, 0, 0, 0, 0, 0, 0, 0, 0],\n",
       "  'rec_boxes': array([[223, ...,  58],\n",
       "         ...,\n",
       "         [885, ..., 674]], shape=(15, 4), dtype=int16)}]"
      ]
     },
     "execution_count": 10,
     "metadata": {},
     "output_type": "execute_result"
    }
   ],
   "source": [
    "result"
   ]
  },
  {
   "cell_type": "code",
   "execution_count": 13,
   "id": "8af9fe47",
   "metadata": {},
   "outputs": [
    {
     "name": "stdout",
     "output_type": "stream",
     "text": [
      "n\n",
      "a\n",
      "o\n",
      "t\n",
      "o\n",
      "e\n",
      "e\n",
      "e\n",
      "e\n",
      "e\n",
      "e\n",
      "e\n",
      "i\n",
      "e\n",
      "e\n"
     ]
    }
   ],
   "source": [
    "# Check if any results were detected\n",
    "if result is not None:\n",
    "    for line in result:\n",
    "        if line:  # Check if line is not empty\n",
    "            for word in line:\n",
    "                if word and len(word) >= 2:  # Ensure word has both position and text\n",
    "                    text_info = word[1]\n",
    "                    if text_info:  # Check if text info exists\n",
    "                        print(text_info[0])  # Print the detected text\n",
    "else:\n",
    "    print(\"No text detected in image\")"
   ]
  },
  {
   "cell_type": "markdown",
   "id": "9c7c9285",
   "metadata": {},
   "source": [
    "# 3. Visualise Results"
   ]
  },
  {
   "cell_type": "code",
   "execution_count": 12,
   "id": "b1b9889a",
   "metadata": {},
   "outputs": [
    {
     "ename": "KeyError",
     "evalue": "0",
     "output_type": "error",
     "traceback": [
      "\u001b[31m---------------------------------------------------------------------------\u001b[39m",
      "\u001b[31mKeyError\u001b[39m                                  Traceback (most recent call last)",
      "\u001b[36mCell\u001b[39m\u001b[36m \u001b[39m\u001b[32mIn[12]\u001b[39m\u001b[32m, line 2\u001b[39m\n\u001b[32m      1\u001b[39m \u001b[38;5;66;03m# Extracting detected components\u001b[39;00m\n\u001b[32m----> \u001b[39m\u001b[32m2\u001b[39m boxes = \u001b[43m[\u001b[49m\u001b[43mres\u001b[49m\u001b[43m[\u001b[49m\u001b[32;43m0\u001b[39;49m\u001b[43m]\u001b[49m\u001b[43m \u001b[49m\u001b[38;5;28;43;01mfor\u001b[39;49;00m\u001b[43m \u001b[49m\u001b[43mres\u001b[49m\u001b[43m \u001b[49m\u001b[38;5;129;43;01min\u001b[39;49;00m\u001b[43m \u001b[49m\u001b[43mresult\u001b[49m\u001b[43m]\u001b[49m \u001b[38;5;66;03m# \u001b[39;00m\n\u001b[32m      3\u001b[39m texts = [res[\u001b[32m1\u001b[39m][\u001b[32m0\u001b[39m] \u001b[38;5;28;01mfor\u001b[39;00m res \u001b[38;5;129;01min\u001b[39;00m result]\n\u001b[32m      4\u001b[39m scores = [res[\u001b[32m1\u001b[39m][\u001b[32m1\u001b[39m] \u001b[38;5;28;01mfor\u001b[39;00m res \u001b[38;5;129;01min\u001b[39;00m result]\n",
      "\u001b[36mCell\u001b[39m\u001b[36m \u001b[39m\u001b[32mIn[12]\u001b[39m\u001b[32m, line 2\u001b[39m, in \u001b[36m<listcomp>\u001b[39m\u001b[34m(.0)\u001b[39m\n\u001b[32m      1\u001b[39m \u001b[38;5;66;03m# Extracting detected components\u001b[39;00m\n\u001b[32m----> \u001b[39m\u001b[32m2\u001b[39m boxes = [\u001b[43mres\u001b[49m\u001b[43m[\u001b[49m\u001b[32;43m0\u001b[39;49m\u001b[43m]\u001b[49m \u001b[38;5;28;01mfor\u001b[39;00m res \u001b[38;5;129;01min\u001b[39;00m result] \u001b[38;5;66;03m# \u001b[39;00m\n\u001b[32m      3\u001b[39m texts = [res[\u001b[32m1\u001b[39m][\u001b[32m0\u001b[39m] \u001b[38;5;28;01mfor\u001b[39;00m res \u001b[38;5;129;01min\u001b[39;00m result]\n\u001b[32m      4\u001b[39m scores = [res[\u001b[32m1\u001b[39m][\u001b[32m1\u001b[39m] \u001b[38;5;28;01mfor\u001b[39;00m res \u001b[38;5;129;01min\u001b[39;00m result]\n",
      "\u001b[31mKeyError\u001b[39m: 0"
     ]
    }
   ],
   "source": [
    "# Extracting detected components\n",
    "boxes = [res[0] for res in result] # \n",
    "texts = [res[1][0] for res in result]\n",
    "scores = [res[1][1] for res in result]"
   ]
  },
  {
   "cell_type": "code",
   "execution_count": null,
   "id": "192cbb3e",
   "metadata": {},
   "outputs": [],
   "source": [
    "# Specifying font path for draw_ocr method\n",
    "font_path = os.path.join('PaddleOCR', 'doc', 'fonts', 'latin.ttf')"
   ]
  },
  {
   "cell_type": "code",
   "execution_count": null,
   "id": "f4571cc9",
   "metadata": {},
   "outputs": [],
   "source": [
    "# Import our image - drug 1/2/3\n",
    "# imports image\n",
    "img = cv2.imread(img_path) \n",
    "\n",
    "# reorders the color channels\n",
    "img = cv2.cvtColor(img, cv2.COLOR_BGR2RGB) "
   ]
  },
  {
   "cell_type": "code",
   "execution_count": null,
   "id": "b58cc71d",
   "metadata": {},
   "outputs": [],
   "source": [
    "# Visualize our image and detections\n",
    "# resizing display area\n",
    "plt.figure(figsize=(15,15))\n",
    "\n",
    "# draw annotations on image\n",
    "annotated = draw_ocr(img, boxes, texts, scores, font_path=font_path) \n",
    "\n",
    "# show the image using matplotlib\n",
    "plt.imshow(annotated) "
   ]
  },
  {
   "cell_type": "code",
   "execution_count": null,
   "id": "7fc67390",
   "metadata": {},
   "outputs": [],
   "source": [
    "img.shape"
   ]
  },
  {
   "cell_type": "code",
   "execution_count": 14,
   "id": "251c650d",
   "metadata": {},
   "outputs": [
    {
     "ename": "KeyError",
     "evalue": "0",
     "output_type": "error",
     "traceback": [
      "\u001b[31m---------------------------------------------------------------------------\u001b[39m",
      "\u001b[31mKeyError\u001b[39m                                  Traceback (most recent call last)",
      "\u001b[36mCell\u001b[39m\u001b[36m \u001b[39m\u001b[32mIn[14]\u001b[39m\u001b[32m, line 4\u001b[39m\n\u001b[32m      1\u001b[39m \u001b[38;5;66;03m# Check if any results were detected\u001b[39;00m\n\u001b[32m      2\u001b[39m \u001b[38;5;28;01mif\u001b[39;00m result \u001b[38;5;129;01mis\u001b[39;00m \u001b[38;5;129;01mnot\u001b[39;00m \u001b[38;5;28;01mNone\u001b[39;00m \u001b[38;5;129;01mand\u001b[39;00m \u001b[38;5;28mlen\u001b[39m(result) > \u001b[32m0\u001b[39m:\n\u001b[32m      3\u001b[39m     \u001b[38;5;66;03m# Extracting detected components\u001b[39;00m\n\u001b[32m----> \u001b[39m\u001b[32m4\u001b[39m     boxes = \u001b[43m[\u001b[49m\u001b[43mline\u001b[49m\u001b[43m[\u001b[49m\u001b[32;43m0\u001b[39;49m\u001b[43m]\u001b[49m\u001b[43m \u001b[49m\u001b[38;5;28;43;01mfor\u001b[39;49;00m\u001b[43m \u001b[49m\u001b[43mline\u001b[49m\u001b[43m \u001b[49m\u001b[38;5;129;43;01min\u001b[39;49;00m\u001b[43m \u001b[49m\u001b[43mresult\u001b[49m\u001b[43m]\u001b[49m  \u001b[38;5;66;03m# Bounding boxes\u001b[39;00m\n\u001b[32m      5\u001b[39m     texts = [line[\u001b[32m1\u001b[39m][\u001b[32m0\u001b[39m] \u001b[38;5;28;01mfor\u001b[39;00m line \u001b[38;5;129;01min\u001b[39;00m result]  \u001b[38;5;66;03m# Detected text\u001b[39;00m\n\u001b[32m      6\u001b[39m     scores = [line[\u001b[32m1\u001b[39m][\u001b[32m1\u001b[39m] \u001b[38;5;28;01mfor\u001b[39;00m line \u001b[38;5;129;01min\u001b[39;00m result]  \u001b[38;5;66;03m# Confidence scores\u001b[39;00m\n",
      "\u001b[36mCell\u001b[39m\u001b[36m \u001b[39m\u001b[32mIn[14]\u001b[39m\u001b[32m, line 4\u001b[39m, in \u001b[36m<listcomp>\u001b[39m\u001b[34m(.0)\u001b[39m\n\u001b[32m      1\u001b[39m \u001b[38;5;66;03m# Check if any results were detected\u001b[39;00m\n\u001b[32m      2\u001b[39m \u001b[38;5;28;01mif\u001b[39;00m result \u001b[38;5;129;01mis\u001b[39;00m \u001b[38;5;129;01mnot\u001b[39;00m \u001b[38;5;28;01mNone\u001b[39;00m \u001b[38;5;129;01mand\u001b[39;00m \u001b[38;5;28mlen\u001b[39m(result) > \u001b[32m0\u001b[39m:\n\u001b[32m      3\u001b[39m     \u001b[38;5;66;03m# Extracting detected components\u001b[39;00m\n\u001b[32m----> \u001b[39m\u001b[32m4\u001b[39m     boxes = [\u001b[43mline\u001b[49m\u001b[43m[\u001b[49m\u001b[32;43m0\u001b[39;49m\u001b[43m]\u001b[49m \u001b[38;5;28;01mfor\u001b[39;00m line \u001b[38;5;129;01min\u001b[39;00m result]  \u001b[38;5;66;03m# Bounding boxes\u001b[39;00m\n\u001b[32m      5\u001b[39m     texts = [line[\u001b[32m1\u001b[39m][\u001b[32m0\u001b[39m] \u001b[38;5;28;01mfor\u001b[39;00m line \u001b[38;5;129;01min\u001b[39;00m result]  \u001b[38;5;66;03m# Detected text\u001b[39;00m\n\u001b[32m      6\u001b[39m     scores = [line[\u001b[32m1\u001b[39m][\u001b[32m1\u001b[39m] \u001b[38;5;28;01mfor\u001b[39;00m line \u001b[38;5;129;01min\u001b[39;00m result]  \u001b[38;5;66;03m# Confidence scores\u001b[39;00m\n",
      "\u001b[31mKeyError\u001b[39m: 0"
     ]
    }
   ],
   "source": [
    "# Check if any results were detected\n",
    "if result is not None and len(result) > 0:\n",
    "    # Extracting detected components\n",
    "    boxes = [line[0] for line in result]  # Bounding boxes\n",
    "    texts = [line[1][0] for line in result]  # Detected text\n",
    "    scores = [line[1][1] for line in result]  # Confidence scores\n",
    "    \n",
    "    # Read image\n",
    "    img = cv2.imread(img_path)\n",
    "    img = cv2.cvtColor(img, cv2.COLOR_BGR2RGB)\n",
    "    \n",
    "    # Specify font path (adjust this path based on your PaddleOCR installation)\n",
    "    # If you don't have the font file, you can use None for default font\n",
    "    font_path = os.path.join('PaddleOCR', 'doc', 'fonts', 'latin.ttf')\n",
    "    \n",
    "    # Check if font file exists, otherwise use None\n",
    "    if not os.path.exists(font_path):\n",
    "        font_path = None\n",
    "    \n",
    "    # Draw OCR results on image\n",
    "    annotated = draw_ocr(img, boxes, texts, scores, font_path=font_path)\n",
    "    \n",
    "    # Save the annotated image\n",
    "    cv2.imwrite(\"result.jpg\", cv2.cvtColor(annotated, cv2.COLOR_RGB2BGR))\n",
    "    \n",
    "    # Display the image using matplotlib\n",
    "    plt.figure(figsize=(15, 15))\n",
    "    plt.imshow(annotated)\n",
    "    plt.axis('off')  # Hide axes\n",
    "    plt.show()\n",
    "    \n",
    "    # Print image shape\n",
    "    print(f\"Image shape: {img.shape}\")\n",
    "else:\n",
    "    print(\"No text detected in the image\")"
   ]
  }
 ],
 "metadata": {
  "kernelspec": {
   "display_name": ".process",
   "language": "python",
   "name": "python3"
  },
  "language_info": {
   "codemirror_mode": {
    "name": "ipython",
    "version": 3
   },
   "file_extension": ".py",
   "mimetype": "text/x-python",
   "name": "python",
   "nbconvert_exporter": "python",
   "pygments_lexer": "ipython3",
   "version": "3.11.9"
  }
 },
 "nbformat": 4,
 "nbformat_minor": 5
}
